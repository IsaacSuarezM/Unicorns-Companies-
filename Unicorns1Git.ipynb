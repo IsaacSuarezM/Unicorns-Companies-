{
 "cells": [
  {
   "cell_type": "markdown",
   "id": "1d74ceb7-705c-4bb6-a2e8-a09c73499d65",
   "metadata": {},
   "source": [
    "Importamos las librerias a utilizar"
   ]
  },
  {
   "cell_type": "code",
   "execution_count": 2,
   "id": "186460f4-fa03-4c6a-948a-d7a907b56b7a",
   "metadata": {},
   "outputs": [],
   "source": [
    "import pandas as pd\n",
    "import numpy as np"
   ]
  },
  {
   "cell_type": "markdown",
   "id": "2258686a-a235-43a3-9af0-d3dbcfd94f84",
   "metadata": {},
   "source": [
    "Para poder usar Big Query (BQ) es necesario instalar las librerias de google. Para ello ejecutamos el siguiente código."
   ]
  },
  {
   "cell_type": "code",
   "execution_count": 16,
   "id": "759173f1-ce2c-416d-a951-ad9f7c9f145e",
   "metadata": {},
   "outputs": [
    {
     "name": "stdout",
     "output_type": "stream",
     "text": [
      "Collecting google-api-python-client\n",
      "  Downloading google_api_python_client-2.58.0-py2.py3-none-any.whl (9.0 MB)\n",
      "Collecting google-auth<3.0.0dev,>=1.19.0\n",
      "  Downloading google_auth-2.11.0-py2.py3-none-any.whl (167 kB)\n",
      "Collecting google-auth-httplib2>=0.1.0\n",
      "  Downloading google_auth_httplib2-0.1.0-py2.py3-none-any.whl (9.3 kB)\n",
      "Collecting uritemplate<5,>=3.0.1\n",
      "  Downloading uritemplate-4.1.1-py2.py3-none-any.whl (10 kB)\n",
      "Collecting google-api-core!=2.0.*,!=2.1.*,!=2.2.*,!=2.3.0,<3.0.0dev,>=1.31.5\n",
      "  Downloading google_api_core-2.8.2-py3-none-any.whl (114 kB)\n",
      "Collecting httplib2<1dev,>=0.15.0\n",
      "  Downloading httplib2-0.20.4-py3-none-any.whl (96 kB)\n",
      "Collecting protobuf<5.0.0dev,>=3.15.0\n",
      "  Downloading protobuf-4.21.5-cp38-cp38-win_amd64.whl (525 kB)\n",
      "Collecting googleapis-common-protos<2.0dev,>=1.56.2\n",
      "  Downloading googleapis_common_protos-1.56.4-py2.py3-none-any.whl (211 kB)\n",
      "Requirement already satisfied: requests<3.0.0dev,>=2.18.0 in c:\\users\\isaac\\anaconda3\\lib\\site-packages (from google-api-core!=2.0.*,!=2.1.*,!=2.2.*,!=2.3.0,<3.0.0dev,>=1.31.5->google-api-python-client) (2.25.1)\n",
      "Collecting pyasn1-modules>=0.2.1\n",
      "  Downloading pyasn1_modules-0.2.8-py2.py3-none-any.whl (155 kB)\n",
      "Requirement already satisfied: six>=1.9.0 in c:\\users\\isaac\\anaconda3\\lib\\site-packages (from google-auth<3.0.0dev,>=1.19.0->google-api-python-client) (1.15.0)\n",
      "Collecting cachetools<6.0,>=2.0.0\n",
      "  Downloading cachetools-5.2.0-py3-none-any.whl (9.3 kB)\n",
      "Collecting rsa<5,>=3.1.4\n",
      "  Downloading rsa-4.9-py3-none-any.whl (34 kB)\n",
      "Requirement already satisfied: pyparsing!=3.0.0,!=3.0.1,!=3.0.2,!=3.0.3,<4,>=2.4.2 in c:\\users\\isaac\\anaconda3\\lib\\site-packages (from httplib2<1dev,>=0.15.0->google-api-python-client) (2.4.7)\n",
      "Collecting pyasn1<0.5.0,>=0.4.6\n",
      "  Downloading pyasn1-0.4.8-py2.py3-none-any.whl (77 kB)\n",
      "Requirement already satisfied: urllib3<1.27,>=1.21.1 in c:\\users\\isaac\\anaconda3\\lib\\site-packages (from requests<3.0.0dev,>=2.18.0->google-api-core!=2.0.*,!=2.1.*,!=2.2.*,!=2.3.0,<3.0.0dev,>=1.31.5->google-api-python-client) (1.26.4)\n",
      "Requirement already satisfied: certifi>=2017.4.17 in c:\\users\\isaac\\anaconda3\\lib\\site-packages (from requests<3.0.0dev,>=2.18.0->google-api-core!=2.0.*,!=2.1.*,!=2.2.*,!=2.3.0,<3.0.0dev,>=1.31.5->google-api-python-client) (2020.12.5)\n",
      "Requirement already satisfied: idna<3,>=2.5 in c:\\users\\isaac\\anaconda3\\lib\\site-packages (from requests<3.0.0dev,>=2.18.0->google-api-core!=2.0.*,!=2.1.*,!=2.2.*,!=2.3.0,<3.0.0dev,>=1.31.5->google-api-python-client) (2.10)\n",
      "Requirement already satisfied: chardet<5,>=3.0.2 in c:\\users\\isaac\\anaconda3\\lib\\site-packages (from requests<3.0.0dev,>=2.18.0->google-api-core!=2.0.*,!=2.1.*,!=2.2.*,!=2.3.0,<3.0.0dev,>=1.31.5->google-api-python-client) (4.0.0)\n",
      "Installing collected packages: pyasn1, rsa, pyasn1-modules, protobuf, cachetools, httplib2, googleapis-common-protos, google-auth, uritemplate, google-auth-httplib2, google-api-core, google-api-python-client\n",
      "Successfully installed cachetools-5.2.0 google-api-core-2.8.2 google-api-python-client-2.58.0 google-auth-2.11.0 google-auth-httplib2-0.1.0 googleapis-common-protos-1.56.4 httplib2-0.20.4 protobuf-4.21.5 pyasn1-0.4.8 pyasn1-modules-0.2.8 rsa-4.9 uritemplate-4.1.1\n",
      "Note: you may need to restart the kernel to use updated packages.\n"
     ]
    }
   ],
   "source": [
    "pip install --upgrade google-api-python-client"
   ]
  },
  {
   "cell_type": "code",
   "execution_count": null,
   "id": "e4e5f9c8-c4de-4221-9491-9e3f44964ca7",
   "metadata": {},
   "outputs": [],
   "source": [
    "pip install pandas-gbq"
   ]
  },
  {
   "cell_type": "markdown",
   "id": "8a66d549-1962-44f4-a770-944a58e06b0d",
   "metadata": {},
   "source": [
    "Ahora definimos la dirección de donde se obtendrán los datos y comprobamos que los datos se hayan cargado"
   ]
  },
  {
   "cell_type": "code",
   "execution_count": 3,
   "id": "22804a7b-6714-44c2-970b-ea8c870354c6",
   "metadata": {},
   "outputs": [],
   "source": [
    "url='https://www.cbinsights.com/research-unicorn-companies'\n",
    "tabla= pd.read_html(url)[0]"
   ]
  },
  {
   "cell_type": "code",
   "execution_count": 5,
   "id": "5ebcbdd3-66d0-4ec3-ae19-b6c47e8ba373",
   "metadata": {},
   "outputs": [],
   "source": [
    "df = pd.DataFrame(tabla)"
   ]
  },
  {
   "cell_type": "markdown",
   "id": "0a92d037-f119-4465-a360-0a7f97ca020d",
   "metadata": {},
   "source": [
    "Empezamos con el procesamiento de datos. Para este dataframe es necesario renombrar las etiquetas de las columnas, dado que la plataforma de google sólo acepta carateres alphanumericos guiones bajos y hasta 300 caracteres"
   ]
  },
  {
   "cell_type": "code",
   "execution_count": 17,
   "id": "9decc4e5-a84e-436a-aa8c-fcb84b17a885",
   "metadata": {},
   "outputs": [],
   "source": [
    "df=df.rename(columns={'Valuation ($B)':'Valuation', 'Date Joined':'Date'})"
   ]
  },
  {
   "cell_type": "code",
   "execution_count": 41,
   "id": "5538af36-83f5-4704-bf0e-cb439f263bfc",
   "metadata": {},
   "outputs": [],
   "source": [
    "df=df.rename(columns={'Select Investors':'Select_investor'})"
   ]
  },
  {
   "cell_type": "code",
   "execution_count": 25,
   "id": "7c4f3ed5-bcde-4182-aabb-0681be2b4648",
   "metadata": {},
   "outputs": [],
   "source": [
    "df[\"Valuation\"]=df[\"Valuation\"].apply(lambda x: x.replace(\"$\",\"\"))"
   ]
  },
  {
   "cell_type": "code",
   "execution_count": 36,
   "id": "ecc96c71-0934-476f-b6a6-85512871932c",
   "metadata": {},
   "outputs": [],
   "source": [
    "df['Date'] = pd.to_datetime(df['Date'], format=\"%m/%d/%Y\")\n",
    "df['Date'] =df['Date'].dt.strftime('%d/%m/%Y')\n",
    "df['Valuation']=pd.to_numeric(df['Valuation'])"
   ]
  },
  {
   "cell_type": "code",
   "execution_count": 42,
   "id": "e38ecf15-1061-4246-8662-2133e0c2a833",
   "metadata": {},
   "outputs": [
    {
     "name": "stdout",
     "output_type": "stream",
     "text": [
      "<class 'pandas.core.frame.DataFrame'>\n",
      "RangeIndex: 1183 entries, 0 to 1182\n",
      "Data columns (total 7 columns):\n",
      " #   Column           Non-Null Count  Dtype  \n",
      "---  ------           --------------  -----  \n",
      " 0   Company          1183 non-null   object \n",
      " 1   Valuation        1183 non-null   float64\n",
      " 2   Date             1183 non-null   object \n",
      " 3   Country          1183 non-null   object \n",
      " 4   City             1166 non-null   object \n",
      " 5   Industry         1183 non-null   object \n",
      " 6   Select_investor  1182 non-null   object \n",
      "dtypes: float64(1), object(6)\n",
      "memory usage: 64.8+ KB\n"
     ]
    }
   ],
   "source": [
    "df.info()"
   ]
  },
  {
   "cell_type": "code",
   "execution_count": 37,
   "id": "481e0f6a-c7c8-4322-8848-33d88f0a827b",
   "metadata": {},
   "outputs": [
    {
     "data": {
      "text/html": [
       "<div>\n",
       "<style scoped>\n",
       "    .dataframe tbody tr th:only-of-type {\n",
       "        vertical-align: middle;\n",
       "    }\n",
       "\n",
       "    .dataframe tbody tr th {\n",
       "        vertical-align: top;\n",
       "    }\n",
       "\n",
       "    .dataframe thead th {\n",
       "        text-align: right;\n",
       "    }\n",
       "</style>\n",
       "<table border=\"1\" class=\"dataframe\">\n",
       "  <thead>\n",
       "    <tr style=\"text-align: right;\">\n",
       "      <th></th>\n",
       "      <th>Company</th>\n",
       "      <th>Valuation</th>\n",
       "      <th>Date</th>\n",
       "      <th>Country</th>\n",
       "      <th>City</th>\n",
       "      <th>Industry</th>\n",
       "      <th>Select Investors</th>\n",
       "    </tr>\n",
       "  </thead>\n",
       "  <tbody>\n",
       "    <tr>\n",
       "      <th>0</th>\n",
       "      <td>ByteDance</td>\n",
       "      <td>140.0</td>\n",
       "      <td>07/04/2017</td>\n",
       "      <td>China</td>\n",
       "      <td>Beijing</td>\n",
       "      <td>Artificial intelligence</td>\n",
       "      <td>Sequoia Capital China, SIG Asia Investments, S...</td>\n",
       "    </tr>\n",
       "    <tr>\n",
       "      <th>1</th>\n",
       "      <td>SpaceX</td>\n",
       "      <td>127.0</td>\n",
       "      <td>01/12/2012</td>\n",
       "      <td>United States</td>\n",
       "      <td>Hawthorne</td>\n",
       "      <td>Other</td>\n",
       "      <td>Founders Fund, Draper Fisher Jurvetson, Rothen...</td>\n",
       "    </tr>\n",
       "    <tr>\n",
       "      <th>2</th>\n",
       "      <td>SHEIN</td>\n",
       "      <td>100.0</td>\n",
       "      <td>03/07/2018</td>\n",
       "      <td>China</td>\n",
       "      <td>Shenzhen</td>\n",
       "      <td>E-commerce &amp; direct-to-consumer</td>\n",
       "      <td>Tiger Global Management, Sequoia Capital China...</td>\n",
       "    </tr>\n",
       "    <tr>\n",
       "      <th>3</th>\n",
       "      <td>Stripe</td>\n",
       "      <td>95.0</td>\n",
       "      <td>23/01/2014</td>\n",
       "      <td>United States</td>\n",
       "      <td>San Francisco</td>\n",
       "      <td>Fintech</td>\n",
       "      <td>Khosla Ventures, LowercaseCapital, capitalG</td>\n",
       "    </tr>\n",
       "    <tr>\n",
       "      <th>4</th>\n",
       "      <td>Canva</td>\n",
       "      <td>40.0</td>\n",
       "      <td>08/01/2018</td>\n",
       "      <td>Australia</td>\n",
       "      <td>Surry Hills</td>\n",
       "      <td>Internet software &amp; services</td>\n",
       "      <td>Sequoia Capital China, Blackbird Ventures, Mat...</td>\n",
       "    </tr>\n",
       "  </tbody>\n",
       "</table>\n",
       "</div>"
      ],
      "text/plain": [
       "     Company  Valuation        Date        Country           City  \\\n",
       "0  ByteDance      140.0  07/04/2017          China        Beijing   \n",
       "1     SpaceX      127.0  01/12/2012  United States      Hawthorne   \n",
       "2      SHEIN      100.0  03/07/2018          China       Shenzhen   \n",
       "3     Stripe       95.0  23/01/2014  United States  San Francisco   \n",
       "4      Canva       40.0  08/01/2018      Australia    Surry Hills   \n",
       "\n",
       "                          Industry  \\\n",
       "0          Artificial intelligence   \n",
       "1                            Other   \n",
       "2  E-commerce & direct-to-consumer   \n",
       "3                          Fintech   \n",
       "4     Internet software & services   \n",
       "\n",
       "                                    Select Investors  \n",
       "0  Sequoia Capital China, SIG Asia Investments, S...  \n",
       "1  Founders Fund, Draper Fisher Jurvetson, Rothen...  \n",
       "2  Tiger Global Management, Sequoia Capital China...  \n",
       "3        Khosla Ventures, LowercaseCapital, capitalG  \n",
       "4  Sequoia Capital China, Blackbird Ventures, Mat...  "
      ]
     },
     "execution_count": 37,
     "metadata": {},
     "output_type": "execute_result"
    }
   ],
   "source": [
    "df.head()"
   ]
  },
  {
   "cell_type": "markdown",
   "id": "dcea4675-840e-4638-ad55-bcd1b83b5f0f",
   "metadata": {},
   "source": [
    "Una vez procesada la información, cargamos las credenciales de la cuenta de servicio para cargar los datos a BQ"
   ]
  },
  {
   "cell_type": "code",
   "execution_count": 8,
   "id": "4036bd34-a716-4a6f-b681-b5c17848e581",
   "metadata": {},
   "outputs": [
    {
     "data": {
      "text/plain": [
       "<google.oauth2.service_account.Credentials at 0x159f5cb62e0>"
      ]
     },
     "execution_count": 8,
     "metadata": {},
     "output_type": "execute_result"
    }
   ],
   "source": [
    "from google.oauth2 import service_account # para generar conexion con BigQuery\n",
    "bq_cred = service_account.Credentials.from_service_account_file('C:/local/archivo.json')\n",
    "bq_cred"
   ]
  },
  {
   "cell_type": "markdown",
   "id": "1320d115-f8a0-4246-9d38-2106875f4cf1",
   "metadata": {},
   "source": [
    "Ahora sólo cargamos los datos. Hay que considerar que los valores de project_id y el nombre de la columna cambia con respecto a cada proyecto."
   ]
  },
  {
   "cell_type": "code",
   "execution_count": 43,
   "id": "a97cddc2-ebe2-4216-bec4-0b289f954267",
   "metadata": {},
   "outputs": [
    {
     "name": "stderr",
     "output_type": "stream",
     "text": [
      "100%|████████████████████████████████████████████████████████████████████████████████████████████| 1/1 [00:00<?, ?it/s]\n"
     ]
    }
   ],
   "source": [
    " # para interactuar con BQ\n",
    "import pandas_gbq\n",
    "pandas_gbq.to_gbq(df, 'nombre_conjunto_de_datos.nombre_tabla', project_id= 'id del proyecto', if_exists= 'replace', credentials = bq_cred)"
   ]
  },
  {
   "cell_type": "markdown",
   "id": "8c45864d-13b2-4953-9462-d99e703708d1",
   "metadata": {},
   "source": [
    "Y listo! terminamos con el procesamiento y carga de datos en BQ."
   ]
  },
  {
   "cell_type": "code",
   "execution_count": null,
   "id": "81dfa2cd-2b08-4b07-bfbd-93342ddc6631",
   "metadata": {},
   "outputs": [],
   "source": []
  }
 ],
 "metadata": {
  "kernelspec": {
   "display_name": "Python 3",
   "language": "python",
   "name": "python3"
  },
  "language_info": {
   "codemirror_mode": {
    "name": "ipython",
    "version": 3
   },
   "file_extension": ".py",
   "mimetype": "text/x-python",
   "name": "python",
   "nbconvert_exporter": "python",
   "pygments_lexer": "ipython3",
   "version": "3.8.8"
  }
 },
 "nbformat": 4,
 "nbformat_minor": 5
}
